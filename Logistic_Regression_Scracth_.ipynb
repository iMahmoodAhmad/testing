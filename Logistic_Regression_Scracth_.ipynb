{
  "nbformat": 4,
  "nbformat_minor": 0,
  "metadata": {
    "colab": {
      "name": "Logistic_Regression_Scracth_.ipynb",
      "provenance": [],
      "include_colab_link": true
    },
    "kernelspec": {
      "name": "python3",
      "display_name": "Python 3"
    },
    "language_info": {
      "name": "python"
    }
  },
  "cells": [
    {
      "cell_type": "markdown",
      "metadata": {
        "id": "view-in-github",
        "colab_type": "text"
      },
      "source": [
        "<a href=\"https://colab.research.google.com/github/MahmoodAhmad1/testing/blob/master/Logistic_Regression_Scracth_.ipynb\" target=\"_parent\"><img src=\"https://colab.research.google.com/assets/colab-badge.svg\" alt=\"Open In Colab\"/></a>"
      ]
    },
    {
      "cell_type": "code",
      "metadata": {
        "colab": {
          "base_uri": "https://localhost:8080/"
        },
        "id": "LvQIvLExiaU_",
        "outputId": "da85e7b5-74c3-4c8e-8ebe-ea7eff82f951"
      },
      "source": [
        "import numpy as np\n",
        "import matplotlib.pyplot as plt\n",
        "from sklearn.model_selection import train_test_split\n",
        "from sklearn.preprocessing import StandardScaler\n",
        "from sklearn.datasets import make_classification\n",
        "\n",
        "X, y = make_classification(n_samples=5000,class_sep=2,n_informative=15)\n",
        "\n",
        "\n",
        "Xtrain, Xtest, ytrain, ytest = train_test_split(X, y, test_size=0.2, random_state=2)\n",
        "\n",
        "ytrain = ytrain.reshape(-1,1)\n",
        "ytest = ytest.reshape(-1,1)\n",
        "\n",
        "#standardize the dataset\n",
        "sc = StandardScaler()\n",
        "sc.fit(Xtrain)\n",
        "Xtrain = sc.transform(Xtrain)\n",
        "Xtest = sc.transform(Xtest)\n",
        "\n",
        "print(f\"Shape of train set is {Xtrain.shape}\")\n",
        "print(f\"Shape of test set is {Xtest.shape}\")\n",
        "print(f\"Shape of train label is {ytrain.shape}\")\n",
        "print(f\"Shape of test labels is {ytest.shape}\")"
      ],
      "execution_count": null,
      "outputs": [
        {
          "output_type": "stream",
          "text": [
            "Shape of train set is (4000, 20)\n",
            "Shape of test set is (1000, 20)\n",
            "Shape of train label is (4000, 1)\n",
            "Shape of test labels is (1000, 1)\n"
          ],
          "name": "stdout"
        }
      ]
    },
    {
      "cell_type": "code",
      "metadata": {
        "id": "fmchYWYmiovv"
      },
      "source": [
        "\n",
        "def sigmoid(z): \n",
        "  h = 1/(1+np.exp(-z))\n",
        "  return h\n",
        "\n",
        "def gradientDescent(x, y, theta, alpha, num_iters):\n",
        "  cost_history = np.zeros(num_iters)\n",
        "  m = x.shape[0]\n",
        "  for i in range(0, num_iters):\n",
        "      # get z, the dot product of x and theta\n",
        "      z = x @ theta\n",
        "      \n",
        "      # get the sigmoid of z\n",
        "      h = sigmoid(z)\n",
        "      \n",
        "      # calculate the cost function\n",
        "      J = (-1./m)*(y.T @ np.log(h) + (1-y).T @ np.log(1-h))\n",
        "      # update the weights theta\n",
        "      theta = theta - (alpha/m)*(x.T @ (h-y))\n",
        "\n",
        "      cost_history[i] = J\n",
        "  J = float(J)\n",
        "  \n",
        "  return J, theta,cost_history"
      ],
      "execution_count": null,
      "outputs": []
    },
    {
      "cell_type": "code",
      "metadata": {
        "id": "0pAtU56ji20Q"
      },
      "source": [
        "theta = np.zeros((20,1))\n",
        "\n",
        "J, theta,his = gradientDescent(Xtrain, ytrain, theta, 0.1, 9000)"
      ],
      "execution_count": null,
      "outputs": []
    },
    {
      "cell_type": "code",
      "metadata": {
        "colab": {
          "base_uri": "https://localhost:8080/",
          "height": 421
        },
        "id": "riRcuKtsjYKJ",
        "outputId": "221d9da8-864f-4da7-c080-0d0b07e73fd8"
      },
      "source": [
        "import matplotlib.pyplot as plt\n",
        "plt.plot(range(1, 9000 +1), his, color ='blue',label = 'alpha = 1e-9')\n",
        "plt.rcParams[\"figure.figsize\"] = (10,6)\n",
        "plt.grid()\n",
        "plt.xlabel(\"Number of iterations\")\n",
        "plt.ylabel(\"cost (J)\")\n",
        "plt.title(\"Convergence of gradient descent\")\n",
        "plt.legend()"
      ],
      "execution_count": null,
      "outputs": [
        {
          "output_type": "execute_result",
          "data": {
            "text/plain": [
              "<matplotlib.legend.Legend at 0x7f2018729910>"
            ]
          },
          "metadata": {
            "tags": []
          },
          "execution_count": 29
        },
        {
          "output_type": "display_data",
          "data": {
            "image/png": "[encoded data removed]",
            "text/plain": [
              "<Figure size 720x432 with 1 Axes>"
            ]
          },
          "metadata": {
            "tags": [],
            "needs_background": "light"
          }
        }
      ]
    },
    {
      "cell_type": "code",
      "metadata": {
        "id": "2177LS7alxBQ",
        "colab": {
          "base_uri": "https://localhost:8080/"
        },
        "outputId": "57573566-c30e-4f06-9fa8-39e0a7e8fd12"
      },
      "source": [
        "y_pred = sigmoid(np.dot(Xtest,theta))\n",
        "#y_pred\n",
        "y_hat =[]\n",
        "for i in range(len(y_pred)):\n",
        "  if y_pred[i] > 0.5:\n",
        "    y_hat.append(1)\n",
        "  else:\n",
        "    y_hat.append(0)\n",
        "     \n",
        "accuracy = (y_hat==np.squeeze(ytest)).sum()/len(Xtest) \n",
        "print(accuracy)"
      ],
      "execution_count": null,
      "outputs": [
        {
          "output_type": "stream",
          "text": [
            "0.985\n"
          ],
          "name": "stdout"
        }
      ]
    },
    {
      "cell_type": "code",
      "metadata": {
        "id": "tnmbh471mEJE"
      },
      "source": [
        ""
      ],
      "execution_count": null,
      "outputs": []
    }
  ]
}